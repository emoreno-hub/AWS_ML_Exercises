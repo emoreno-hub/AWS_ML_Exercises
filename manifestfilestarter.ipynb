{
 "cells": [
  {
   "cell_type": "markdown",
   "metadata": {},
   "source": [
    "## Amazon Lookout for Vision Lab\n",
    "\n",
    "To help you learn about creating a model, Amazon Lookout for Vision provides example images of circuit boards (circuit_board) that you can use. These images are taken from https://docs.aws.amazon.com/lookout-for-vision/latest/developer-guide/su-prepare-example-images.html.\n",
    "\n",
    "### Environmental variables\n",
    "\n",
    "In a very first step we want to define the two global variables needed for this notebook:\n",
    "\n",
    "- bucket: the S3 bucket that you will create and then use as your source for Amazon Lookout for Vision\n",
    "    - Note: Please read the comments carefully. Depending on your region you need to uncomment the correct command\n",
    "- project: the project name you want to use in Amazon Lookout for Vision"
   ]
  },
  {
   "cell_type": "code",
   "execution_count": 27,
   "metadata": {},
   "outputs": [
    {
     "name": "stdout",
     "output_type": "stream",
     "text": [
      "<botocore.client.SageMaker object at 0x7fa51644dca0>\n"
     ]
    }
   ],
   "source": [
    "import os\n",
    "import boto3\n",
    "\n",
    "# bucket = \"vision20210905\"\n",
    "bucket = 'udacity-manifest-data'\n",
    "project = \"circuitproject\"\n",
    "os.environ[\"BUCKET\"] = bucket\n",
    "os.environ[\"REGION\"] = boto3.session.Session().region_name\n",
    "\n",
    "# client = boto3.client('lookoutvision')\n",
    "client=boto3.Session().client('sagemaker')\n",
    "print(client)"
   ]
  },
  {
   "cell_type": "markdown",
   "metadata": {},
   "source": [
    "You can check your region here with:"
   ]
  },
  {
   "cell_type": "code",
   "execution_count": 28,
   "metadata": {},
   "outputs": [
    {
     "name": "stdout",
     "output_type": "stream",
     "text": [
      "us-west-1\n"
     ]
    }
   ],
   "source": [
    "# Check your region:\n",
    "print(boto3.session.Session().region_name)"
   ]
  },
  {
   "cell_type": "markdown",
   "metadata": {},
   "source": [
    "Depending on your region follow the instructions of the next cell:"
   ]
  },
  {
   "cell_type": "markdown",
   "metadata": {},
   "source": [
    "## Image Preparation and EDA\n",
    "\n",
    "In Amazon Lookout for Vision - see also\n",
    "- https://aws.amazon.com/lookout-for-vision/ and\n",
    "- https://aws.amazon.com/blogs/aws/amazon-lookout-for-vision-new-machine-learning-service-that-simplifies-defect-detection-for-manufacturing/\n",
    "if you already have pre-labeled images available, as it is the case in this example, you can already establish a folder structure that lets you define training and validation. Further, images are labeled for Amazon Lookout via the corresponding folder (normal=good, anomaly=bad).\n",
    "\n",
    "We will import the sample images provided by AWS Lookout of Vision. If you're importing your own images, you will prepare them at this stage."
   ]
  },
  {
   "cell_type": "markdown",
   "metadata": {},
   "source": [
    "### Generate the *manifest* files\n",
    "\n",
    "You might be familiar with the manifest files if you ever used Amazon SageMaker Ground Truth. If you are not don't worry about that section too much.\n",
    "\n",
    "If you are still interested in what's happening, you can continue reading:\n",
    "\n",
    "Each dataset training/ as well as validation/ needs a manifest file. This file is used by Amazon Lookout for Vision to determine where to look for the images. The manifest follows a fixed structure. Most importantly are the keys (it's JSON formatted) *source-ref* this is the location for each file, *auto-label* the value for each label (0=bad, 1=good), *folder* which indicates whether Amazon Lookout is using training or validation and *creation-date* as this let's you know when an image was put in place. All other fields are pre-set for you.\n",
    "\n",
    "Each manifest file itself contains N JSON objects, where N is the number of images that are used in this dataset."
   ]
  },
  {
   "cell_type": "code",
   "execution_count": 30,
   "metadata": {},
   "outputs": [
    {
     "name": "stdout",
     "output_type": "stream",
     "text": [
      "train\n"
     ]
    },
    {
     "ename": "FileNotFoundError",
     "evalue": "[Errno 2] No such file or directory: './circuitboard/train'",
     "output_type": "error",
     "traceback": [
      "\u001b[0;31m---------------------------------------------------------------------------\u001b[0m",
      "\u001b[0;31mFileNotFoundError\u001b[0m                         Traceback (most recent call last)",
      "\u001b[0;32m/tmp/ipykernel_6399/75006738.py\u001b[0m in \u001b[0;36m<cell line: 14>\u001b[0;34m()\u001b[0m\n\u001b[1;32m     15\u001b[0m     \u001b[0;31m# ...list the folder available (normal or anomaly).\u001b[0m\u001b[0;34m\u001b[0m\u001b[0;34m\u001b[0m\u001b[0;34m\u001b[0m\u001b[0m\n\u001b[1;32m     16\u001b[0m     \u001b[0mprint\u001b[0m\u001b[0;34m(\u001b[0m\u001b[0mds\u001b[0m\u001b[0;34m)\u001b[0m\u001b[0;34m\u001b[0m\u001b[0;34m\u001b[0m\u001b[0m\n\u001b[0;32m---> 17\u001b[0;31m     \u001b[0mfolders\u001b[0m \u001b[0;34m=\u001b[0m \u001b[0mos\u001b[0m\u001b[0;34m.\u001b[0m\u001b[0mlistdir\u001b[0m\u001b[0;34m(\u001b[0m\u001b[0;34m\"./circuitboard/{}\"\u001b[0m\u001b[0;34m.\u001b[0m\u001b[0mformat\u001b[0m\u001b[0;34m(\u001b[0m\u001b[0mds\u001b[0m\u001b[0;34m)\u001b[0m\u001b[0;34m)\u001b[0m\u001b[0;34m\u001b[0m\u001b[0;34m\u001b[0m\u001b[0m\n\u001b[0m\u001b[1;32m     18\u001b[0m     \u001b[0;31m# Then open the manifest file for this dataset...\u001b[0m\u001b[0;34m\u001b[0m\u001b[0;34m\u001b[0m\u001b[0;34m\u001b[0m\u001b[0m\n\u001b[1;32m     19\u001b[0m     \u001b[0;32mwith\u001b[0m \u001b[0mopen\u001b[0m\u001b[0;34m(\u001b[0m\u001b[0;34m\"{}.manifest\"\u001b[0m\u001b[0;34m.\u001b[0m\u001b[0mformat\u001b[0m\u001b[0;34m(\u001b[0m\u001b[0mds\u001b[0m\u001b[0;34m)\u001b[0m\u001b[0;34m,\u001b[0m \u001b[0;34m\"w\"\u001b[0m\u001b[0;34m)\u001b[0m \u001b[0;32mas\u001b[0m \u001b[0mf\u001b[0m\u001b[0;34m:\u001b[0m\u001b[0;34m\u001b[0m\u001b[0;34m\u001b[0m\u001b[0m\n",
      "\u001b[0;31mFileNotFoundError\u001b[0m: [Errno 2] No such file or directory: './circuitboard/train'"
     ]
    }
   ],
   "source": [
    "# Datetime for datetime generation and json to dump the JSON object\n",
    "# to the corresponding files:\n",
    "from datetime import datetime\n",
    "import json\n",
    "\n",
    "# Current date and time in manifest file format:\n",
    "now = datetime.now()\n",
    "dttm = now.strftime(\"%Y-%m-%dT%H:%M:%S.%f\")\n",
    "\n",
    "# The two datasets used: train and test\n",
    "datasets = [\"train\", \"test\"]\n",
    "\n",
    "# For each dataset...\n",
    "for ds in datasets:\n",
    "    # ...list the folder available (normal or anomaly).\n",
    "    print(ds)\n",
    "    folders = os.listdir(\"./circuitboard/{}\".format(ds))\n",
    "    # Then open the manifest file for this dataset...\n",
    "    with open(\"{}.manifest\".format(ds), \"w\") as f:\n",
    "        for folder in folders:\n",
    "            filecount=0\n",
    "            #print(folder)\n",
    "            # ...and iterate through both folders by first listing\n",
    "            # the corresponding files and setting the appropriate label\n",
    "            # (as noted above: 1 = good, 0 = bad):\n",
    "            files = os.listdir(\"./circuitboard/{}/{}\".format(ds, folder))\n",
    "            label = 1\n",
    "            if folder == \"anomaly\":\n",
    "                label = 0\n",
    "            # For each file in the folder...\n",
    "            for file in files:\n",
    "                filecount+=1\n",
    "                print(filecount)\n",
    "                # Uncomment the following two lines to use the entire dataset\n",
    "                if filecount>20:\n",
    "                    break\n",
    "                # ...generate a manifest JSON object and save it to the manifest\n",
    "                # file. Don't forget to add '/n' to generate a new line:\n",
    "                manifest = {\n",
    "                  \"source-ref\": \"s3://{}/{}/{}/{}/{}\".format(bucket,project, ds, folder, file),\n",
    "                  \"auto-label\": label,\n",
    "                  \"auto-label-metadata\": {\n",
    "                    \"confidence\": 1,\n",
    "                    \"job-name\": \"labeling-job/auto-label\",\n",
    "                    \"class-name\": folder,\n",
    "                    \"human-annotated\": \"yes\",\n",
    "                    \"creation-date\": dttm,\n",
    "                    \"type\": \"groundtruth/image-classification\"\n",
    "                  }\n",
    "                }\n",
    "                f.write(json.dumps(manifest)+\"\\n\")"
   ]
  },
  {
   "cell_type": "markdown",
   "metadata": {},
   "source": [
    "### Upload manifest files and images to S3\n",
    "\n",
    "Now it's time to upload all the images and the manifest files:"
   ]
  },
  {
   "cell_type": "code",
   "execution_count": null,
   "metadata": {},
   "outputs": [],
   "source": [
    "# Upload manifest files to S3 bucket:\n",
    "!aws s3 cp train.manifest s3://{bucket}/{project}/train.manifest\n",
    "!aws s3 cp test.manifest s3://{bucket}/{project}/test.manifest"
   ]
  },
  {
   "cell_type": "code",
   "execution_count": null,
   "metadata": {
    "scrolled": true
   },
   "outputs": [],
   "source": [
    "# Upload images to S3 bucket:\n",
    "!aws s3 cp circuitboard/train/normal s3://{bucket}/{project}/train/normal --recursive\n",
    "!aws s3 cp circuitboard/train/anomaly s3://{bucket}/{project}/train/anomaly --recursive\n",
    "\n",
    "!aws s3 cp circuitboard/test/normal s3://{bucket}/{project}/test/normal --recursive\n",
    "!aws s3 cp circuitboard/test/anomaly s3://{bucket}/{project}/test/anomaly --recursive"
   ]
  },
  {
   "cell_type": "code",
   "execution_count": null,
   "metadata": {},
   "outputs": [],
   "source": []
  }
 ],
 "metadata": {
  "instance_type": "ml.t3.medium",
  "kernelspec": {
   "display_name": "conda_python3",
   "language": "python",
   "name": "conda_python3"
  },
  "language_info": {
   "codemirror_mode": {
    "name": "ipython",
    "version": 3
   },
   "file_extension": ".py",
   "mimetype": "text/x-python",
   "name": "python",
   "nbconvert_exporter": "python",
   "pygments_lexer": "ipython3",
   "version": "3.8.12"
  }
 },
 "nbformat": 4,
 "nbformat_minor": 4
}
